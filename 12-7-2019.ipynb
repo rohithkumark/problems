{
 "cells": [
  {
   "cell_type": "markdown",
   "metadata": {},
   "source": [
    "### REGULAR EXPRESSION\n",
    "- pattren matching\n",
    "- pattren(re) package\n",
    "- cap symbol is used to represent the start of re\n",
    "- Doller is used to represent the end of re                                              \n",
    "- [0-9]--> any digit matching\n",
    "       -->  two digit number(^[0-9]{2}$)\n",
    "       -->  five digit number[(0-9)"
   ]
  },
  {
   "cell_type": "markdown",
   "metadata": {},
   "source": [
    "### REGULAR EXPRESSION FOR CHARACTERS\n",
    "- [a-z]-->any lower case characters\n",
    "- [A-Z]-->any upper case characters\n",
    "- ^[a-z]{5}$  --> it accept 5 lower characters\n",
    "\n",
    "- ^[a-zA-Z]{8}$-->accepts 8 characters can be anything lower and upper\n",
    "\n",
    "- ^[a-zA-Z0-9]{8}$--> Accept 8characters can be anything lower upper and digit "
   ]
  },
  {
   "cell_type": "code",
   "execution_count": 2,
   "metadata": {},
   "outputs": [
    {
     "name": "stdout",
     "output_type": "stream",
     "text": [
      "True\n",
      "False\n"
     ]
    }
   ],
   "source": [
    "# function to test two digit number matching\n",
    "import re\n",
    "def twodigitmatching(n):\n",
    "    pattren = '^[0-9]{2}$'\n",
    "    n=str(n)\n",
    "    if re.match(pattren,n):\n",
    "        return True\n",
    "    return False\n",
    "print(twodigitmatching(12)) # True\n",
    "print(twodigitmatching(123)) # False"
   ]
  },
  {
   "cell_type": "code",
   "execution_count": 8,
   "metadata": {},
   "outputs": [
    {
     "name": "stdout",
     "output_type": "stream",
     "text": [
      "False\n",
      "False\n"
     ]
    }
   ],
   "source": [
    "# function to define to test username having 8 characters\n",
    "# upper case and lower\n",
    "def testusername(s):\n",
    "    pattern='^(a-zA-Z){8}$'\n",
    "    if re.match(pattern,s):\n",
    "        return True\n",
    "    return False\n",
    "print(testusername('GitamHYD'))\n",
    "print(testusername('Gitam188'))"
   ]
  },
  {
   "cell_type": "code",
   "execution_count": 9,
   "metadata": {},
   "outputs": [
    {
     "data": {
      "text/plain": [
       "True"
      ]
     },
     "execution_count": 9,
     "metadata": {},
     "output_type": "execute_result"
    }
   ],
   "source": [
    "# function to validate the indian mobile number\n",
    "def phonenumbervalidation(phone):\n",
    "    pattern = '^[+][9][1][6-9][0-9]{9}$|^[0][6-9][0-9]{9}$|^[6-9][0-9]{9}$'\n",
    "    phone = str(phone)\n",
    "    if re.match(pattern,phone):\n",
    "        return True\n",
    "    return False\n",
    "phonenumbervalidation('9988774455')"
   ]
  },
  {
   "cell_type": "markdown",
   "metadata": {},
   "source": [
    "###  -- Regular expression to validate the rollnumber\n",
    "- Example : 1521A0501\n",
    "- Example : 1521A0109 \n",
    "- Example : 1521A0499\n",
    "### -- Regular expression to validate the password\n",
    "- parameters : len min of 6 characters and max of 15 characters\n",
    "- Accept Lower case, upper case, digits, splchar(@ ,#,$,!)"
   ]
  },
  {
   "cell_type": "code",
   "execution_count": 12,
   "metadata": {},
   "outputs": [
    {
     "data": {
      "text/plain": [
       "True"
      ]
     },
     "execution_count": 12,
     "metadata": {},
     "output_type": "execute_result"
    }
   ],
   "source": [
    "def rollnumbervalidation(rollnumber):\n",
    "    pattern = '^[1][5][2][1][A][0-9]{4}$'\n",
    "    phone = str(rollnumber)\n",
    "    if re.match(pattern,rollnumber):\n",
    "        return True\n",
    "    return False\n",
    "rollnumbervalidation('1521A0499')"
   ]
  },
  {
   "cell_type": "code",
   "execution_count": 13,
   "metadata": {},
   "outputs": [
    {
     "name": "stdout",
     "output_type": "stream",
     "text": [
      "True\n"
     ]
    }
   ],
   "source": [
    "def password(s):\n",
    "    pattern = '^[!-~]{6,15}$'\n",
    "    if re.match(pattern,s):\n",
    "        return True\n",
    "    return False\n",
    "print(password(\"Ap@18151925\"))"
   ]
  },
  {
   "cell_type": "markdown",
   "metadata": {},
   "source": [
    "### Email ID validation using Regular Expression\n",
    "- Example : Username@DomainName.extension\n",
    "- Username :-\n",
    "            - Length will be [6-15]\n",
    "            - No Spls characters apart from Underscore(_)\n",
    "            - Should not begin and ends with Underscore(_)\n",
    "            - Characters Set : All digits and lower case\n",
    "- DomainName :- \n",
    "             - Length will be [3-18]\n",
    "             - No spls characters\n",
    "             - Character Set : All digits and lower case\n",
    "- Extension :-\n",
    "             - Length will be [2-4]\n",
    "             - No spl characters\n",
    "             - Character Set : Lower case characters"
   ]
  },
  {
   "cell_type": "code",
   "execution_count": 19,
   "metadata": {},
   "outputs": [
    {
     "data": {
      "text/plain": [
       "False"
      ]
     },
     "execution_count": 19,
     "metadata": {},
     "output_type": "execute_result"
    }
   ],
   "source": [
    "def emailIdValidation(email):\n",
    "    pattern = '^[0-9a-z_.][0-9a-z_.]{6,15}[@][a-z0-9]{3,18}[.][a-z]{2,4}$'\n",
    "    if re.match(pattern,email):\n",
    "        return True\n",
    "    return False\n",
    "emailIdValidation('rohith@gmail.com')"
   ]
  },
  {
   "cell_type": "markdown",
   "metadata": {},
   "source": [
    "### Python Turtle\n",
    "- Turtle Graphics"
   ]
  },
  {
   "cell_type": "code",
   "execution_count": 1,
   "metadata": {},
   "outputs": [],
   "source": [
    "# Step 1 : Make all the turtle package to be imported\n",
    "import turtle\n",
    "# Turtle method creates and returns a new object\n",
    "a1= turtle.Turtle()\n",
    "# forward() method moves 100 pixels\n",
    "turtle.forward(250)\n",
    "#we are done\n",
    "turtle.done()"
   ]
  },
  {
   "cell_type": "code",
   "execution_count": 1,
   "metadata": {},
   "outputs": [],
   "source": [
    "#Line draw in reverse direction\n",
    "import turtle as tt\n",
    "a1 = tt.Turtle()\n",
    "tt.backward(100)\n",
    "tt.done()"
   ]
  },
  {
   "cell_type": "code",
   "execution_count": null,
   "metadata": {},
   "outputs": [],
   "source": [
    "# Draw square\n",
    "import turtle as tt\n",
    "a1 = tt.Turtle()\n",
    "a1.forward(150)\n",
    "a1.right(90)\n",
    "a1.forward(150)\n",
    "a1.right(90)\n",
    "a1.forward(150)\n",
    "a1.right(90)\n",
    "a1.forward(150)\n",
    "a1.right(90)\n",
    "tt.done"
   ]
  },
  {
   "cell_type": "code",
   "execution_count": 20,
   "metadata": {},
   "outputs": [
    {
     "data": {
      "text/plain": [
       "<function turtle.mainloop()>"
      ]
     },
     "execution_count": 20,
     "metadata": {},
     "output_type": "execute_result"
    }
   ],
   "source": [
    "# Draw square\n",
    "import turtle as tt\n",
    "a1 = tt.Turtle()\n",
    "a1.forward(150)\n",
    "a1.right(90)\n",
    "a1.forward(150)\n",
    "a1.right(90)\n",
    "a1.forward(150)\n",
    "a1.right(90)\n",
    "a1.forward(150)\n",
    "a1.right(90)\n",
    "tt.done"
   ]
  },
  {
   "cell_type": "code",
   "execution_count": 1,
   "metadata": {},
   "outputs": [
    {
     "data": {
      "text/plain": [
       "<function turtle.mainloop()>"
      ]
     },
     "execution_count": 1,
     "metadata": {},
     "output_type": "execute_result"
    }
   ],
   "source": [
    "# Draw square\n",
    "import turtle as tt\n",
    "a1 = tt.Turtle()\n",
    "a1.backward(150)\n",
    "a1.left(90)\n",
    "a1.backward(150)\n",
    "a1.left(90)\n",
    "a1.backward(150)\n",
    "a1.left(90)\n",
    "a1.backward(150)\n",
    "a1.left(90)\n",
    "tt.done"
   ]
  },
  {
   "cell_type": "code",
   "execution_count": 1,
   "metadata": {},
   "outputs": [
    {
     "data": {
      "text/plain": [
       "<function turtle.mainloop()>"
      ]
     },
     "execution_count": 1,
     "metadata": {},
     "output_type": "execute_result"
    }
   ],
   "source": [
    "# Draw pentagon\n",
    "import turtle as tt\n",
    "a1 = tt.Turtle()\n",
    "a1.forward(50)\n",
    "a1.right(72)\n",
    "a1.forward(50)\n",
    "a1.right(72)\n",
    "a1.forward(50)\n",
    "a1.right(72)\n",
    "a1.forward(50)\n",
    "a1.right(72)\n",
    "a1.forward(50)\n",
    "tt.done"
   ]
  },
  {
   "cell_type": "code",
   "execution_count": 4,
   "metadata": {},
   "outputs": [],
   "source": [
    "# Star\n",
    "import turtle as t\n",
    "a1 = t.Turtle()\n",
    "for i in range(40):\n",
    "    a1.forward(50)\n",
    "    a1.right(144)\n",
    "t.done()"
   ]
  },
  {
   "cell_type": "code",
   "execution_count": 1,
   "metadata": {},
   "outputs": [],
   "source": [
    "# Spiraling Star\n",
    "import turtle as t\n",
    "a1 = t.Turtle()\n",
    "a1.pencolor('blue')\n",
    "for i in range(40):\n",
    "    a1.forward(i*10)\n",
    "    a1.right(144)\n",
    "t.done()"
   ]
  },
  {
   "cell_type": "code",
   "execution_count": 2,
   "metadata": {},
   "outputs": [],
   "source": [
    "# Square Spiral help of Turtle\n",
    "import turtle as t\n",
    "a1= t.Turtle()\n",
    "for i in range(250):\n",
    "    a1.forward(i)\n",
    "    a1.left(91)   \n",
    "t.done()"
   ]
  },
  {
   "cell_type": "code",
   "execution_count": 6,
   "metadata": {},
   "outputs": [],
   "source": [
    "# Hexagon with multi color\n",
    "\n",
    "from turtle import *\n",
    "colors= ['blue','green','black','orange','purple','red']\n",
    "for x in range(360):\n",
    "    pencolor(colors[x%6])\n",
    "    width(x/100+1)\n",
    "    forward(x)\n",
    "    left(59)"
   ]
  },
  {
   "cell_type": "code",
   "execution_count": 2,
   "metadata": {},
   "outputs": [],
   "source": [
    "# goto function\n",
    "\n",
    "from turtle import *\n",
    "goto(50,50)\n",
    "goto(-50,50)\n",
    "goto(100,-50)\n",
    "goto(-50,-50)"
   ]
  },
  {
   "cell_type": "code",
   "execution_count": 1,
   "metadata": {},
   "outputs": [],
   "source": [
    "from turtle import *\n",
    "colors = ['blue','red','purple','orange','black','green']\n",
    "for angle in range(0,360,15):\n",
    "        pencolor(colors[angle%6])\n",
    "        setheading(angle)\n",
    "        forward(100)\n",
    "        write(str(angle)+'0')\n",
    "        backward(100)\n"
   ]
  },
  {
   "cell_type": "code",
   "execution_count": 2,
   "metadata": {},
   "outputs": [],
   "source": [
    "# undo() function will undo the turtle last action\n",
    "from turtle import *\n",
    "pencolor('blue')\n",
    "for i in range(15):\n",
    "    forward(100)\n",
    "    left(90)\n",
    "    forward(10)\n",
    "    left(90)\n",
    "    forward(100)\n",
    "    right(90)\n",
    "    forward(10)\n",
    "    right(90)\n",
    "pencolor('red')\n",
    "for i in range(90):\n",
    "    undo()"
   ]
  },
  {
   "cell_type": "code",
   "execution_count": null,
   "metadata": {},
   "outputs": [],
   "source": []
  },
  {
   "cell_type": "code",
   "execution_count": null,
   "metadata": {},
   "outputs": [],
   "source": []
  },
  {
   "cell_type": "code",
   "execution_count": null,
   "metadata": {},
   "outputs": [],
   "source": []
  },
  {
   "cell_type": "code",
   "execution_count": null,
   "metadata": {},
   "outputs": [],
   "source": []
  }
 ],
 "metadata": {
  "kernelspec": {
   "display_name": "Python 3",
   "language": "python",
   "name": "python3"
  },
  "language_info": {
   "codemirror_mode": {
    "name": "ipython",
    "version": 3
   },
   "file_extension": ".py",
   "mimetype": "text/x-python",
   "name": "python",
   "nbconvert_exporter": "python",
   "pygments_lexer": "ipython3",
   "version": "3.7.3"
  }
 },
 "nbformat": 4,
 "nbformat_minor": 2
}
