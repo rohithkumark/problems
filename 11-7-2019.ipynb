{
 "cells": [
  {
   "cell_type": "markdown",
   "metadata": {},
   "source": [
    "# standard libraries:-\n",
    "- file I/O\n",
    "- regular expression\n",
    "- date time\n",
    "- math(numerical and mathematical)"
   ]
  },
  {
   "cell_type": "markdown",
   "metadata": {},
   "source": [
    "### file handling in python :-\n",
    "- file:-document containing information resides on the permenant storage\n",
    "- different type of files:-txt,doc,pdf,csv&etc.......\n",
    "- input:- keyboard\n",
    "- output:- file"
   ]
  },
  {
   "cell_type": "markdown",
   "metadata": {},
   "source": [
    "### modes of the field I/O:-\n",
    "- 'W'--this mode is used to file writing\n",
    "     \n",
    "     -- if the file is not present first it creates the file and writ some data to it\n",
    "     \n",
    "     -- if the file is already present then it will rewrite thew previous content   "
   ]
  },
  {
   "cell_type": "code",
   "execution_count": 2,
   "metadata": {},
   "outputs": [
    {
     "name": "stdout",
     "output_type": "stream",
     "text": [
      "file is created and data has writen\n"
     ]
    }
   ],
   "source": [
    "# function to create a file and write to the file \n",
    "def createFile(filename):\n",
    "    f = open(filename,'w')\n",
    "    for i in range(10):\n",
    "        f.write('this is %d line\\n'%i)\n",
    "    print('file is created and data has writen')\n",
    "    return\n",
    "createFile('file1.txt')"
   ]
  },
  {
   "cell_type": "code",
   "execution_count": 3,
   "metadata": {},
   "outputs": [
    {
     "name": "stdout",
     "output_type": "stream",
     "text": [
      " Volume in drive C has no label.\n",
      " Volume Serial Number is 6664-AD0E\n",
      "\n",
      " Directory of C:\\Users\\mpilab\n",
      "\n",
      "10-07-2019  15:40             9,177  assignment2.ipynb\n",
      "11-07-2019  09:46    <DIR>          .\n",
      "11-07-2019  09:46    <DIR>          ..\n",
      "13-06-2019  14:09    <DIR>          .anaconda\n",
      "04-07-2019  11:05               506 .bash_history\n",
      "11-07-2019  09:46    <DIR>          .conda\n",
      "11-07-2019  09:13                43 .condarc\n",
      "29-06-2019  11:54    <DIR>          .idlerc\n",
      "11-07-2019  09:16    <DIR>          .ipynb_checkpoints\n",
      "13-06-2019  14:27    <DIR>          .ipython\n",
      "13-06-2019  14:27    <DIR>          .jupyter\n",
      "28-06-2019  16:52    <DIR>          .matplotlib\n",
      "05-07-2019  16:57             6,410 05-02-2019.ipynb\n",
      "08-07-2019  17:32             3,094 06-7-2019.ipynb\n",
      "08-07-2019  17:29             3,850 08-7-2019.ipynb\n",
      "09-07-2019  16:36            18,572 09-07-2019.ipynb\n",
      "10-07-2019  16:46            18,956 10-7-2019.ipynb\n",
      "10-07-2019  09:55             2,384 10-9-2019-Copy1.ipynb\n",
      "11-07-2019  09:46             1,783 11-7-2019.ipynb\n",
      "05-07-2019  12:23    <DIR>          Anaconda3\n",
      "10-07-2019  09:15             2,668 assignment.ipynb\n",
      "25-07-2018  13:20    <DIR>          Contacts\n",
      "10-07-2019  16:51    <DIR>          Desktop\n",
      "11-07-2019  09:15    <DIR>          Documents\n",
      "10-07-2019  16:47    <DIR>          Downloads\n",
      "25-07-2018  13:20    <DIR>          Favorites\n",
      "11-07-2019  09:46               160 file1.txt\n",
      "19-06-2019  14:05    <DIR>          gitam-june-2019\n",
      "25-07-2018  13:20    <DIR>          Links\n",
      "19-11-2018  14:44                70 mpilab.asm\n",
      "25-07-2018  13:20    <DIR>          Music\n",
      "14-02-2019  16:09    <DIR>          Pictures\n",
      "04-07-2019  11:20    <DIR>          problemsolvingandprograming\n",
      "28-11-2018  14:28               103 RR.asm\n",
      "25-07-2018  13:20    <DIR>          Saved Games\n",
      "25-07-2018  13:20    <DIR>          Searches\n",
      "10-07-2019  09:31               555 Untitled.ipynb\n",
      "10-07-2019  16:08               555 Untitled1.ipynb\n",
      "25-07-2018  13:20    <DIR>          Videos\n",
      "              16 File(s)         68,886 bytes\n",
      "              23 Dir(s)  131,162,963,968 bytes free\n"
     ]
    }
   ],
   "source": [
    "ls"
   ]
  },
  {
   "cell_type": "code",
   "execution_count": 5,
   "metadata": {},
   "outputs": [
    {
     "name": "stdout",
     "output_type": "stream",
     "text": [
      "file is created and data has writen\n"
     ]
    }
   ],
   "source": [
    "def createFile(filename):\n",
    "    f=open(filename,'w')\n",
    "    f.write('testing..\\n')\n",
    "    print('file is created and data has writen')\n",
    "    return\n",
    "createFile('file1.txt')"
   ]
  },
  {
   "cell_type": "code",
   "execution_count": 6,
   "metadata": {},
   "outputs": [
    {
     "name": "stdout",
     "output_type": "stream",
     "text": [
      "file created and succesfully data written\n"
     ]
    }
   ],
   "source": [
    "def appendData(filename):\n",
    "   f=open(filename,'a')\n",
    "   for i in range(10):\n",
    "       f.write(\"this is %d line\\n\"%i)\n",
    "   print(\"file created and succesfully data written\")\n",
    "   return\n",
    "appendData('file2.txt')"
   ]
  },
  {
   "cell_type": "code",
   "execution_count": 7,
   "metadata": {},
   "outputs": [
    {
     "name": "stdout",
     "output_type": "stream",
     "text": [
      "file created and succesfully data written\n"
     ]
    }
   ],
   "source": [
    "def appendData(filename):\n",
    "   f=open(filename,'a')\n",
    "   f.write(\"new line 1\\n\")\n",
    "   f.write(\"new line 2\\n\")\n",
    "   print(\"file created and succesfully data written\")\n",
    "   return\n",
    "appendData('file2.txt')"
   ]
  },
  {
   "cell_type": "code",
   "execution_count": 8,
   "metadata": {},
   "outputs": [
    {
     "name": "stdout",
     "output_type": "stream",
     "text": [
      "this is 0 line\n",
      "this is 1 line\n",
      "this is 2 line\n",
      "this is 3 line\n",
      "this is 4 line\n",
      "this is 5 line\n",
      "this is 6 line\n",
      "this is 7 line\n",
      "this is 8 line\n",
      "this is 9 line\n",
      "new line 1\n",
      "new line 2\n",
      "\n"
     ]
    }
   ],
   "source": [
    "# function to read of the file \n",
    "def readFileData(filename):\n",
    "   f=open(filename,'r')\n",
    "   if f.mode=='r':\n",
    "       x=f.read()\n",
    "       print(x)\n",
    "   f.close   \n",
    "   return\n",
    "readFileData('file2.txt')"
   ]
  },
  {
   "cell_type": "code",
   "execution_count": 9,
   "metadata": {},
   "outputs": [
    {
     "name": "stdout",
     "output_type": "stream",
     "text": [
      "enter the file namedata.txt\n",
      "enter the mode of the filea\n",
      "the data succesfully written\n"
     ]
    }
   ],
   "source": [
    "# function to read the file\n",
    "def fileOperations(filename,mode):\n",
    "   with open(filename,mode) as f:\n",
    "       if f.mode=='r':\n",
    "           data=f.read()\n",
    "           print(data)\n",
    "       elif f.mode=='a':\n",
    "           f.write('data of the file')\n",
    "           print('the data succesfully written')\n",
    "   f.close\n",
    "   return\n",
    "filename=input('enter the file name')\n",
    "mode=input('enter the mode of the file')\n",
    "fileOperations(filename,mode)\n",
    "    "
   ]
  },
  {
   "cell_type": "code",
   "execution_count": 11,
   "metadata": {},
   "outputs": [
    {
     "name": "stdout",
     "output_type": "stream",
     "text": [
      "Enter the file name :file2.txt\n",
      "Enter the word :this\n"
     ]
    },
    {
     "data": {
      "text/plain": [
       "10"
      ]
     },
     "execution_count": 11,
     "metadata": {},
     "output_type": "execute_result"
    }
   ],
   "source": [
    "# Data Analysis\n",
    "# Word Count Program\n",
    "def wordCount(filename,word):\n",
    "    with open(filename, 'r') as f:\n",
    "        if f.mode == 'r':\n",
    "            x= f.read()\n",
    "            li= x.split() #It splits the string with whitespace\n",
    "    cnt= li.count(word)\n",
    "    return cnt\n",
    "filename = input('Enter the file name :')\n",
    "word = input('Enter the word :') #which word count you need\n",
    "wordCount(filename,word)"
   ]
  },
  {
   "cell_type": "code",
   "execution_count": 12,
   "metadata": {},
   "outputs": [
    {
     "name": "stdout",
     "output_type": "stream",
     "text": [
      "Enter the filename : file2.txt\n"
     ]
    },
    {
     "data": {
      "text/plain": [
       "172"
      ]
     },
     "execution_count": 12,
     "metadata": {},
     "output_type": "execute_result"
    }
   ],
   "source": [
    "# character count from the given file\n",
    "# Character count from the given file\n",
    "def charCount(filename):\n",
    "    with open(filename,'r') as f:\n",
    "        if f.mode == 'r':\n",
    "            x=f.read()\n",
    "            li = list(x)\n",
    "    return len(li)\n",
    "filename = input('Enter the filename : ')\n",
    "charCount(filename)"
   ]
  },
  {
   "cell_type": "code",
   "execution_count": 13,
   "metadata": {},
   "outputs": [
    {
     "name": "stdout",
     "output_type": "stream",
     "text": [
      "Enter the filename : file2.txt\n"
     ]
    },
    {
     "data": {
      "text/plain": [
       "13"
      ]
     },
     "execution_count": 13,
     "metadata": {},
     "output_type": "execute_result"
    }
   ],
   "source": [
    "# Function to find the no. of lines in the i/p file\n",
    "# i/p -- filename(file2.txt)\n",
    "# o/p -- No of lines (12)\n",
    "def countOfLines(filename):\n",
    "    with open(filename,'r') as f:\n",
    "        if f.mode == 'r':\n",
    "            x = f.read()\n",
    "            li = x.split(\"\\n\")\n",
    "    return len(li)\n",
    "filename = input('Enter the filename : ')\n",
    "countOfLines(filename)"
   ]
  },
  {
   "cell_type": "code",
   "execution_count": 16,
   "metadata": {},
   "outputs": [
    {
     "name": "stdout",
     "output_type": "stream",
     "text": [
      "Enter the filename : file2.txt\n"
     ]
    },
    {
     "data": {
      "text/plain": [
       "'Upper Case = 0 , Lower Case = 114'"
      ]
     },
     "execution_count": 16,
     "metadata": {},
     "output_type": "execute_result"
    }
   ],
   "source": [
    "# Function to print the Upper and Lower characters\n",
    "def caseCount(filename):\n",
    "    cntUpper = 0\n",
    "    cntLower = 0\n",
    "    with open(filename,'r') as f:\n",
    "        if f.mode =='r':\n",
    "            x = f.read()\n",
    "            li = list(x)\n",
    "    for i in li:\n",
    "        if i.isupper():\n",
    "            cntUpper += 1 #cntUpper = cntUpper+1\n",
    "        elif i.islower():\n",
    "            cntLower += 1 #cntLower = cntLower+1\n",
    "    output = 'Upper Case = {0} , Lower Case = {1}'.format(cntUpper,cntLower)\n",
    "    return output\n",
    "filename = input('Enter the filename : ')\n",
    "caseCount(filename)"
   ]
  },
  {
   "cell_type": "markdown",
   "metadata": {},
   "source": [
    "### math, random, os\n",
    "- os package it contains certain methods which works with os"
   ]
  },
  {
   "cell_type": "code",
   "execution_count": 1,
   "metadata": {},
   "outputs": [
    {
     "name": "stdout",
     "output_type": "stream",
     "text": [
      " Volume in drive C has no label.\n",
      " Volume Serial Number is 6664-AD0E\n",
      "\n",
      " Directory of C:\\Users\\mpilab\n",
      "\n",
      "10-07-2019  15:40             9,177  assignment2.ipynb\n",
      "11-07-2019  14:14    <DIR>          .\n",
      "11-07-2019  14:14    <DIR>          ..\n",
      "13-06-2019  14:09    <DIR>          .anaconda\n",
      "04-07-2019  11:05               506 .bash_history\n",
      "11-07-2019  14:14    <DIR>          .conda\n",
      "11-07-2019  09:13                43 .condarc\n",
      "29-06-2019  11:54    <DIR>          .idlerc\n",
      "11-07-2019  09:16    <DIR>          .ipynb_checkpoints\n",
      "13-06-2019  14:27    <DIR>          .ipython\n",
      "13-06-2019  14:27    <DIR>          .jupyter\n",
      "28-06-2019  16:52    <DIR>          .matplotlib\n",
      "05-07-2019  16:57             6,410 05-02-2019.ipynb\n",
      "08-07-2019  17:32             3,094 06-7-2019.ipynb\n",
      "08-07-2019  17:29             3,850 08-7-2019.ipynb\n",
      "09-07-2019  16:36            18,572 09-07-2019.ipynb\n",
      "10-07-2019  16:46            18,956 10-7-2019.ipynb\n",
      "10-07-2019  09:55             2,384 10-9-2019-Copy1.ipynb\n",
      "11-07-2019  14:14            12,325 11-7-2019.ipynb\n",
      "05-07-2019  12:23    <DIR>          Anaconda3\n",
      "10-07-2019  09:15             2,668 assignment.ipynb\n",
      "25-07-2018  13:20    <DIR>          Contacts\n",
      "11-07-2019  10:27                16 data.txt\n",
      "11-07-2019  14:13    <DIR>          Desktop\n",
      "11-07-2019  12:40    <DIR>          Documents\n",
      "11-07-2019  14:13    <DIR>          Downloads\n",
      "25-07-2018  13:20    <DIR>          Favorites\n",
      "11-07-2019  10:02                11 file1.txt\n",
      "11-07-2019  10:12               184 file2.txt\n",
      "19-06-2019  14:05    <DIR>          gitam-june-2019\n",
      "25-07-2018  13:20    <DIR>          Links\n",
      "19-11-2018  14:44                70 mpilab.asm\n",
      "25-07-2018  13:20    <DIR>          Music\n",
      "14-02-2019  16:09    <DIR>          Pictures\n",
      "04-07-2019  11:20    <DIR>          problemsolvingandprograming\n",
      "28-11-2018  14:28               103 RR.asm\n",
      "25-07-2018  13:20    <DIR>          Saved Games\n",
      "25-07-2018  13:20    <DIR>          Searches\n",
      "10-07-2019  09:31               555 Untitled.ipynb\n",
      "10-07-2019  16:08               555 Untitled1.ipynb\n",
      "25-07-2018  13:20    <DIR>          Videos\n",
      "              18 File(s)         79,479 bytes\n",
      "              23 Dir(s)  131,408,506,880 bytes free\n"
     ]
    }
   ],
   "source": [
    "ls"
   ]
  },
  {
   "cell_type": "code",
   "execution_count": 3,
   "metadata": {},
   "outputs": [
    {
     "name": "stdout",
     "output_type": "stream",
     "text": [
      "C:\\Users\\mpilab\\Desktop\\problem\\git\n"
     ]
    }
   ],
   "source": [
    "cd Desktop/problem/git"
   ]
  },
  {
   "cell_type": "code",
   "execution_count": 4,
   "metadata": {},
   "outputs": [
    {
     "name": "stdout",
     "output_type": "stream",
     "text": [
      " Volume in drive C has no label.\n",
      " Volume Serial Number is 6664-AD0E\n",
      "\n",
      " Directory of C:\\Users\\mpilab\\Desktop\\problem\\git\n",
      "\n",
      "04-07-2019  11:37    <DIR>          .\n",
      "04-07-2019  11:37    <DIR>          ..\n",
      "04-07-2019  11:51                48 file1.txt\n",
      "               1 File(s)             48 bytes\n",
      "               2 Dir(s)  131,408,232,448 bytes free\n"
     ]
    }
   ],
   "source": [
    "ls"
   ]
  },
  {
   "cell_type": "code",
   "execution_count": 5,
   "metadata": {},
   "outputs": [
    {
     "name": "stdout",
     "output_type": "stream",
     "text": [
      "C:\\Users\\mpilab\\Desktop\\problem\n"
     ]
    }
   ],
   "source": [
    "cd .."
   ]
  },
  {
   "cell_type": "code",
   "execution_count": 6,
   "metadata": {},
   "outputs": [
    {
     "data": {
      "text/plain": [
       "['file1.txt']"
      ]
     },
     "execution_count": 6,
     "metadata": {},
     "output_type": "execute_result"
    }
   ],
   "source": [
    "import os\n",
    "os.listdir('git/') # Listdir() --ls"
   ]
  },
  {
   "cell_type": "code",
   "execution_count": 7,
   "metadata": {},
   "outputs": [
    {
     "name": "stdout",
     "output_type": "stream",
     "text": [
      "file1.txt\n"
     ]
    }
   ],
   "source": [
    "li = os.listdir('git/')\n",
    "for i in li:\n",
    "    print(i)"
   ]
  },
  {
   "cell_type": "markdown",
   "metadata": {},
   "source": [
    "- Older version Python -- os.listdir()\n",
    "- New version Python -- os.scandir() and pathlib.Path()"
   ]
  },
  {
   "cell_type": "code",
   "execution_count": 8,
   "metadata": {},
   "outputs": [
    {
     "name": "stdout",
     "output_type": "stream",
     "text": [
      "<DirEntry 'file1.txt'>\n"
     ]
    }
   ],
   "source": [
    "li = os.scandir('git/')\n",
    "for i in li:\n",
    "    print(i)"
   ]
  },
  {
   "cell_type": "code",
   "execution_count": 9,
   "metadata": {},
   "outputs": [
    {
     "name": "stdout",
     "output_type": "stream",
     "text": [
      "file1.txt\n"
     ]
    }
   ],
   "source": [
    "from pathlib import Path\n",
    "li = Path('git/')\n",
    "for i in li.iterdir():\n",
    "    print(i.name)"
   ]
  },
  {
   "cell_type": "markdown",
   "metadata": {},
   "source": [
    "### Listing all files in a Directory"
   ]
  },
  {
   "cell_type": "code",
   "execution_count": 11,
   "metadata": {},
   "outputs": [
    {
     "name": "stdout",
     "output_type": "stream",
     "text": [
      "file1.txt\n"
     ]
    }
   ],
   "source": [
    "import os\n",
    "dirPath = \"git/\"\n",
    "for i in os.listdir(dirPath):\n",
    "    if os.path.isfile(os.path.join(dirPath,i)):\n",
    "        print(i)"
   ]
  },
  {
   "cell_type": "code",
   "execution_count": 12,
   "metadata": {},
   "outputs": [
    {
     "data": {
      "text/plain": [
       "'C:\\\\Users\\\\mpilab\\\\Desktop\\\\problem'"
      ]
     },
     "execution_count": 12,
     "metadata": {},
     "output_type": "execute_result"
    }
   ],
   "source": [
    "pwd"
   ]
  },
  {
   "cell_type": "code",
   "execution_count": 13,
   "metadata": {},
   "outputs": [
    {
     "name": "stdout",
     "output_type": "stream",
     "text": [
      "C:\\Users\\mpilab\\Desktop\\problem\\git\n"
     ]
    }
   ],
   "source": [
    "cd git"
   ]
  },
  {
   "cell_type": "code",
   "execution_count": 14,
   "metadata": {},
   "outputs": [
    {
     "data": {
      "text/plain": [
       "'C:\\\\Users\\\\mpilab\\\\Desktop\\\\problem\\\\git'"
      ]
     },
     "execution_count": 14,
     "metadata": {},
     "output_type": "execute_result"
    }
   ],
   "source": [
    "pwd"
   ]
  },
  {
   "cell_type": "markdown",
   "metadata": {},
   "source": [
    "### Creating a Single Directory"
   ]
  },
  {
   "cell_type": "code",
   "execution_count": 18,
   "metadata": {},
   "outputs": [
    {
     "ename": "FileExistsError",
     "evalue": "[WinError 183] Cannot create a file when that file already exists: 'SingleDirectory'",
     "output_type": "error",
     "traceback": [
      "\u001b[1;31m---------------------------------------------------------------------------\u001b[0m",
      "\u001b[1;31mFileExistsError\u001b[0m                           Traceback (most recent call last)",
      "\u001b[1;32m<ipython-input-18-2817d40a7fe1>\u001b[0m in \u001b[0;36m<module>\u001b[1;34m\u001b[0m\n\u001b[1;32m----> 1\u001b[1;33m \u001b[0mos\u001b[0m\u001b[1;33m.\u001b[0m\u001b[0mmkdir\u001b[0m\u001b[1;33m(\u001b[0m\u001b[1;34m'SingleDirectory'\u001b[0m\u001b[1;33m)\u001b[0m\u001b[1;33m\u001b[0m\u001b[1;33m\u001b[0m\u001b[0m\n\u001b[0m",
      "\u001b[1;31mFileExistsError\u001b[0m: [WinError 183] Cannot create a file when that file already exists: 'SingleDirectory'"
     ]
    }
   ],
   "source": [
    "os.mkdir('SingleDirectory')"
   ]
  },
  {
   "cell_type": "code",
   "execution_count": 19,
   "metadata": {},
   "outputs": [
    {
     "name": "stdout",
     "output_type": "stream",
     "text": [
      " Volume in drive C has no label.\n",
      " Volume Serial Number is 6664-AD0E\n",
      "\n",
      " Directory of C:\\Users\\mpilab\\Desktop\\problem\\git\n",
      "\n",
      "11-07-2019  16:15    <DIR>          .\n",
      "11-07-2019  16:15    <DIR>          ..\n",
      "04-07-2019  11:51                48 file1.txt\n",
      "11-07-2019  16:15    <DIR>          SingleDirectory\n",
      "               1 File(s)             48 bytes\n",
      "               3 Dir(s)  131,396,190,208 bytes free\n"
     ]
    }
   ],
   "source": [
    "ls"
   ]
  },
  {
   "cell_type": "code",
   "execution_count": null,
   "metadata": {},
   "outputs": [],
   "source": []
  },
  {
   "cell_type": "code",
   "execution_count": null,
   "metadata": {},
   "outputs": [],
   "source": []
  }
 ],
 "metadata": {
  "kernelspec": {
   "display_name": "Python 3",
   "language": "python",
   "name": "python3"
  },
  "language_info": {
   "codemirror_mode": {
    "name": "ipython",
    "version": 3
   },
   "file_extension": ".py",
   "mimetype": "text/x-python",
   "name": "python",
   "nbconvert_exporter": "python",
   "pygments_lexer": "ipython3",
   "version": "3.7.3"
  }
 },
 "nbformat": 4,
 "nbformat_minor": 2
}
